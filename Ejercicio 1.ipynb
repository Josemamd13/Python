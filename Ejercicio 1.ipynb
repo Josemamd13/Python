{
 "cells": [
  {
   "cell_type": "markdown",
   "id": "f990181f",
   "metadata": {},
   "source": [
    "# Ejercicio 1"
   ]
  },
  {
   "cell_type": "markdown",
   "id": "55e0e94f",
   "metadata": {},
   "source": [
    "## 1. Crear una lista con el nombre de 6 aminoácidos."
   ]
  },
  {
   "cell_type": "code",
   "execution_count": 2,
   "id": "67dbe91f",
   "metadata": {},
   "outputs": [
    {
     "name": "stdout",
     "output_type": "stream",
     "text": [
      "['Gly', 'Ala', 'Val', 'Leu', 'Ile', 'Met']\n"
     ]
    }
   ],
   "source": [
    "amino = [\"Gly\", \"Ala\", \"Val\", \"Leu\", \"Ile\", \"Met\"]\n",
    "print(amino)"
   ]
  },
  {
   "cell_type": "markdown",
   "id": "1eede19c",
   "metadata": {},
   "source": [
    "## 2. Insertar uno más al final."
   ]
  },
  {
   "cell_type": "code",
   "execution_count": 3,
   "id": "d62dd6b4",
   "metadata": {},
   "outputs": [
    {
     "name": "stdout",
     "output_type": "stream",
     "text": [
      "['Gly', 'Ala', 'Val', 'Leu', 'Ile', 'Met', 'Phe']\n"
     ]
    }
   ],
   "source": [
    "amino.append(\"Phe\")\n",
    "print(amino)"
   ]
  },
  {
   "cell_type": "markdown",
   "id": "b95fbb52",
   "metadata": {},
   "source": [
    "## 3. Pedir el nombre de uno de ellos al usuario y eliminarlo."
   ]
  },
  {
   "cell_type": "code",
   "execution_count": 8,
   "id": "322c0938",
   "metadata": {},
   "outputs": [
    {
     "name": "stdout",
     "output_type": "stream",
     "text": [
      "¿Qué aminoácido tiene un grupo radical H? Gly\n"
     ]
    }
   ],
   "source": [
    "radical_H = input(\"¿Qué aminoácido tiene un grupo radical H? \")"
   ]
  },
  {
   "cell_type": "markdown",
   "id": "b72fdf2f",
   "metadata": {},
   "source": [
    "## 4. Ordenar la lista alfabéticamente."
   ]
  },
  {
   "cell_type": "code",
   "execution_count": 10,
   "id": "35ce913a",
   "metadata": {},
   "outputs": [
    {
     "name": "stdout",
     "output_type": "stream",
     "text": [
      "['Ala', 'Gly', 'Ile', 'Leu', 'Met', 'Phe', 'Val']\n"
     ]
    }
   ],
   "source": [
    "amino.sort()\n",
    "print(amino)"
   ]
  },
  {
   "cell_type": "markdown",
   "id": "f69e19f5",
   "metadata": {},
   "source": [
    "## 5. Imprimir el número de elementos de la lista."
   ]
  },
  {
   "cell_type": "code",
   "execution_count": 13,
   "id": "aa0c011f",
   "metadata": {},
   "outputs": [
    {
     "name": "stdout",
     "output_type": "stream",
     "text": [
      "7\n"
     ]
    }
   ],
   "source": [
    "num_amino = len(amino)\n",
    "print(num_amino)"
   ]
  }
 ],
 "metadata": {
  "kernelspec": {
   "display_name": "Python 3 (ipykernel)",
   "language": "python",
   "name": "python3"
  },
  "language_info": {
   "codemirror_mode": {
    "name": "ipython",
    "version": 3
   },
   "file_extension": ".py",
   "mimetype": "text/x-python",
   "name": "python",
   "nbconvert_exporter": "python",
   "pygments_lexer": "ipython3",
   "version": "3.11.0"
  }
 },
 "nbformat": 4,
 "nbformat_minor": 5
}
