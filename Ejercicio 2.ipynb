{
 "cells": [
  {
   "cell_type": "markdown",
   "id": "31d78281",
   "metadata": {},
   "source": [
    "# Ejercicio 2"
   ]
  },
  {
   "cell_type": "markdown",
   "id": "00a7252f",
   "metadata": {},
   "source": [
    "## Ordenar una lista manteniendo una copia de la versión original."
   ]
  },
  {
   "cell_type": "code",
   "execution_count": 8,
   "id": "df6d35bf",
   "metadata": {},
   "outputs": [
    {
     "name": "stdout",
     "output_type": "stream",
     "text": [
      "[5, 9, 4, 3, 1, 89, 75, 23, 56]\n",
      "[5, 9, 4, 3, 1, 89, 75, 23, 56]\n",
      "[1, 3, 4, 5, 9, 23, 56, 75, 89]\n"
     ]
    }
   ],
   "source": [
    "num = [5, 9, 4, 3, 1, 89, 75, 23, 56]\n",
    "print(num)\n",
    "\n",
    "num_ordenado = num[:] #Nos crea un espacio nuevo en memoria desde el primer elemento de la lista \n",
    "                      #hasta el último, sin embargo, sin el [:] nos compartiría la memoria con \n",
    "                      #la lista previa\n",
    "num_ordenado.sort()\n",
    "\n",
    "print(num)\n",
    "print(num_ordenado)"
   ]
  }
 ],
 "metadata": {
  "kernelspec": {
   "display_name": "Python 3 (ipykernel)",
   "language": "python",
   "name": "python3"
  },
  "language_info": {
   "codemirror_mode": {
    "name": "ipython",
    "version": 3
   },
   "file_extension": ".py",
   "mimetype": "text/x-python",
   "name": "python",
   "nbconvert_exporter": "python",
   "pygments_lexer": "ipython3",
   "version": "3.11.0"
  }
 },
 "nbformat": 4,
 "nbformat_minor": 5
}
